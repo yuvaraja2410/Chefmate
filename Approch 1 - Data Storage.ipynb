{
 "cells": [
  {
   "cell_type": "markdown",
   "metadata": {
    "id": "4GTKOt13LUI2"
   },
   "source": [
    "# **Data Storage**"
   ]
  },
  {
   "cell_type": "markdown",
   "metadata": {
    "id": "zx3ooR_WVrf2"
   },
   "source": [
    "**Push raw restaurant and recipe data (JSON format) to an AWS S3 bucket**"
   ]
  },
  {
   "cell_type": "code",
   "execution_count": 15,
   "metadata": {
    "id": "kJXzAxerLcFl"
   },
   "outputs": [],
   "source": [
    "import boto3"
   ]
  },
  {
   "cell_type": "code",
   "execution_count": 16,
   "metadata": {
    "colab": {
     "base_uri": "https://localhost:8080/",
     "height": 209
    },
    "executionInfo": {
     "elapsed": 991135,
     "status": "ok",
     "timestamp": 1733392947207,
     "user": {
      "displayName": "YUVARAJA",
      "userId": "10349840122868614290"
     },
     "user_tz": -330
    },
    "id": "pW8uhmECNSdr",
    "outputId": "dbc2a970-92cc-42ab-ecf7-65cc7b0a977d"
   },
   "outputs": [],
   "source": [
    "# from colabcode import files\n",
    "\n",
    "# uploaded = files.upload()"
   ]
  },
  {
   "cell_type": "code",
   "execution_count": 17,
   "metadata": {
    "id": "6tilvyC1LlY6"
   },
   "outputs": [],
   "source": [
    "import os\n",
    "\n",
    "# AWS credentials\n",
    "os.environ[\"AWS_ACCESS_KEY_ID\"] = \"\"\n",
    "os.environ[\"AWS_SECRET_ACCESS_KEY\"] = \"+o8PNkV\""
   ]
  },
  {
   "cell_type": "code",
   "execution_count": 18,
   "metadata": {
    "colab": {
     "base_uri": "https://localhost:8080/"
    },
    "executionInfo": {
     "elapsed": 8831,
     "status": "ok",
     "timestamp": 1733392991094,
     "user": {
      "displayName": "KARAN KUMAR",
      "userId": "10349840122868614260"
     },
     "user_tz": -330
    },
    "id": "8IZbfhg2ME7I",
    "outputId": "f86501a7-4b97-4174-caef-1771ebeb0444"
   },
   "outputs": [
    {
     "name": "stdout",
     "output_type": "stream",
     "text": [
      "Uploaded file1.json to s3://finalrawdatas/data/file1.json\n",
      "Uploaded file2.json to s3://finalrawdatas/data/file2.json\n",
      "Uploaded file3.json to s3://finalrawdatas/data/file3.json\n",
      "Uploaded file4.json to s3://finalrawdatas/data/file4.json\n",
      "Uploaded file5.json to s3://finalrawdatas/data/file5.json\n"
     ]
    }
   ],
   "source": [
    "# Initializing S3 client\n",
    "s3 = boto3.client(\n",
    "    's3',\n",
    "    aws_access_key_id=os.getenv(\"AWS_ACCESS_KEY_ID\"),\n",
    "    aws_secret_access_key=os.getenv(\"AWS_SECRET_ACCESS_KEY\")\n",
    ")\n",
    "\n",
    "bucket_name = \"finalrawdatas\"\n",
    "\n",
    "files_to_upload = [\n",
    "    \"file1.json\",\n",
    "    \"file2.json\",\n",
    "    \"file3.json\",\n",
    "    \"file4.json\",\n",
    "    \"file5.json\"\n",
    "]\n",
    "\n",
    "for file_name in files_to_upload:\n",
    "    object_name = f\"data/{file_name}\"\n",
    "    s3.upload_file(file_name, bucket_name, object_name)\n",
    "    print(f\"Uploaded {file_name} to s3://{bucket_name}/{object_name}\")\n"
   ]
  }
 ],
 "metadata": {
  "colab": {
   "authorship_tag": "ABX9TyNkHuL5hyI5lrGGm7UwE2bN",
   "provenance": []
  },
  "kernelspec": {
   "display_name": "chefmate",
   "language": "python",
   "name": "python3"
  },
  "language_info": {
   "codemirror_mode": {
    "name": "ipython",
    "version": 3
   },
   "file_extension": ".py",
   "mimetype": "text/x-python",
   "name": "python",
   "nbconvert_exporter": "python",
   "pygments_lexer": "ipython3",
   "version": "3.12.8"
  }
 },
 "nbformat": 4,
 "nbformat_minor": 0
}
